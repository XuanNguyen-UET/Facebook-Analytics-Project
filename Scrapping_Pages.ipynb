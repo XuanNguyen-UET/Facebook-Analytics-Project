{
 "cells": [
  {
   "cell_type": "markdown",
   "metadata": {},
   "source": [
    "![purple-divider](https://user-images.githubusercontent.com/7065401/52071927-c1cd7100-2562-11e9-908a-dde91ba14e59.png)\n",
    "\n",
    "# Facebook Page Crawl Data \n",
    "### Using facebook-scrapping tools "
   ]
  },
  {
   "cell_type": "markdown",
   "metadata": {},
   "source": [
    "![purple-divider](https://user-images.githubusercontent.com/7065401/52071927-c1cd7100-2562-11e9-908a-dde91ba14e59.png)\n",
    "\n",
    "### Install required library using %pip \n"
   ]
  },
  {
   "cell_type": "code",
   "execution_count": null,
   "metadata": {},
   "outputs": [],
   "source": [
    "%pip install facebook_scraper pandas numpy"
   ]
  },
  {
   "cell_type": "code",
   "execution_count": 1,
   "metadata": {},
   "outputs": [],
   "source": [
    "from facebook_scraper import get_posts\n",
    "import pandas as pd\n",
    "import numpy as np"
   ]
  },
  {
   "cell_type": "markdown",
   "metadata": {},
   "source": [
    "![purple-divider](https://user-images.githubusercontent.com/7065401/52071927-c1cd7100-2562-11e9-908a-dde91ba14e59.png)\n",
    "\n",
    "#### Start to Crawl! \n",
    "##### we need to define some variables that will be using: \n",
    "- FANPAGE_LINK: The link to the fanpage that we want to crawl data from. In this project, I will use the link to \"[Weibo_Viet_Nam](https://www.facebook.com/weibovietnam?locale=vi_VN)\" as the value of this variable.\n",
    "\n",
    "- COOKIE_PATH: The path to the cookie file that we will be using to authenticate with Facebook. This cookie file can be obtained by logging into Facebook and copying the cookie from the browser.I used extension [get cookie txt](https://chrome.google.com/webstore/detail/get-cookiestxt-locally/cclelndahbckbenkjhflpdbgdldlbecc) to export the cookie into [cookie file](/home/xuannguyen/github-classroom/Facebook-Analytics-Project/www.facebook.com_cookies.txt)\n",
    "\n",
    "- FOLDER_NAME: The name of the folder that we will be saving the data to. This folder will be created in the same directory as this notebook. It named \"Data\"\n",
    "\n",
    "- PAGES_NUMBER: Number of pages will crawl, each Page will have 10 posts by default"
   ]
  },
  {
   "cell_type": "code",
   "execution_count": 4,
   "metadata": {},
   "outputs": [],
   "source": [
    "FANPAGE_LINK = 'weibovietnam'\n",
    "COOKIE_PATH = 'www.facebook.com_cookies.txt'\n",
    "FOLDER_NAME = 'Data/'\n",
    "\n",
    "PAGES_NUMBER = 100"
   ]
  },
  {
   "cell_type": "markdown",
   "metadata": {},
   "source": [
    "![purple-divider](https://user-images.githubusercontent.com/7065401/52071927-c1cd7100-2562-11e9-908a-dde91ba14e59.png)\n",
    "\n",
    "\n",
    "#### Implement Scrapper tool:  "
   ]
  },
  {
   "cell_type": "code",
   "execution_count": null,
   "metadata": {},
   "outputs": [],
   "source": [
    "post_list = []\n",
    "for post in get_posts(FANPAGE_LINK, \n",
    "                      options={'comments': True, 'reactors': True, 'allow_extra_requests': True},\n",
    "                      extra_info=True, \n",
    "                      pages=PAGES_NUMBER, \n",
    "                      cookies=COOKIE_PATH):\n",
    "    print(post)\n",
    "    post_list.append(post)"
   ]
  },
  {
   "cell_type": "markdown",
   "metadata": {},
   "source": [
    "#### convert into csv file "
   ]
  },
  {
   "cell_type": "code",
   "execution_count": 6,
   "metadata": {},
   "outputs": [
    {
     "name": "stdout",
     "output_type": "stream",
     "text": [
      "Data/weibovietnam.csv\n"
     ]
    }
   ],
   "source": [
    "post_df_full = pd.DataFrame(columns=post_list[0].keys(), index=range(len(post_list)), data=post_list)\n",
    "\n",
    "# To df\n",
    "path=FOLDER_NAME + FANPAGE_LINK + \".csv\"\n",
    "post_df_full.to_csv(path, index=False)\n",
    "print(path)"
   ]
  },
  {
   "cell_type": "code",
   "execution_count": 8,
   "metadata": {},
   "outputs": [
    {
     "name": "stdout",
     "output_type": "stream",
     "text": [
      "<class 'pandas.core.frame.DataFrame'>\n",
      "RangeIndex: 1000 entries, 0 to 999\n",
      "Data columns (total 51 columns):\n",
      " #   Column                         Non-Null Count  Dtype         \n",
      "---  ------                         --------------  -----         \n",
      " 0   post_id                        1000 non-null   object        \n",
      " 1   text                           953 non-null    object        \n",
      " 2   post_text                      953 non-null    object        \n",
      " 3   shared_text                    953 non-null    object        \n",
      " 4   original_text                  0 non-null      object        \n",
      " 5   time                           1000 non-null   datetime64[ns]\n",
      " 6   timestamp                      1000 non-null   int64         \n",
      " 7   image                          897 non-null    object        \n",
      " 8   image_lowquality               1000 non-null   object        \n",
      " 9   images                         954 non-null    object        \n",
      " 10  images_description             954 non-null    object        \n",
      " 11  images_lowquality              1000 non-null   object        \n",
      " 12  images_lowquality_description  1000 non-null   object        \n",
      " 13  video                          43 non-null     object        \n",
      " 14  video_duration_seconds         0 non-null      object        \n",
      " 15  video_height                   0 non-null      object        \n",
      " 16  video_id                       43 non-null     object        \n",
      " 17  video_quality                  0 non-null      object        \n",
      " 18  video_size_MB                  0 non-null      object        \n",
      " 19  video_thumbnail                43 non-null     object        \n",
      " 20  video_watches                  0 non-null      object        \n",
      " 21  video_width                    0 non-null      object        \n",
      " 22  likes                          762 non-null    float64       \n",
      " 23  comments                       1000 non-null   int64         \n",
      " 24  shares                         1000 non-null   int64         \n",
      " 25  post_url                       1000 non-null   object        \n",
      " 26  link                           3 non-null      object        \n",
      " 27  links                          999 non-null    object        \n",
      " 28  user_id                        1000 non-null   object        \n",
      " 29  username                       1000 non-null   object        \n",
      " 30  user_url                       1000 non-null   object        \n",
      " 31  is_live                        1000 non-null   bool          \n",
      " 32  factcheck                      0 non-null      object        \n",
      " 33  shared_post_id                 0 non-null      object        \n",
      " 34  shared_time                    0 non-null      object        \n",
      " 35  shared_user_id                 0 non-null      object        \n",
      " 36  shared_username                0 non-null      object        \n",
      " 37  shared_post_url                0 non-null      object        \n",
      " 38  available                      1000 non-null   bool          \n",
      " 39  comments_full                  1000 non-null   object        \n",
      " 40  reactors                       239 non-null    object        \n",
      " 41  w3_fb_url                      239 non-null    object        \n",
      " 42  reactions                      239 non-null    object        \n",
      " 43  reaction_count                 1000 non-null   int64         \n",
      " 44  with                           5 non-null      object        \n",
      " 45  page_id                        1000 non-null   object        \n",
      " 46  sharers                        0 non-null      object        \n",
      " 47  image_id                       737 non-null    object        \n",
      " 48  image_ids                      1000 non-null   object        \n",
      " 49  was_live                       1000 non-null   bool          \n",
      " 50  fetched_time                   239 non-null    datetime64[ns]\n",
      "dtypes: bool(3), datetime64[ns](2), float64(1), int64(4), object(41)\n",
      "memory usage: 378.1+ KB\n"
     ]
    }
   ],
   "source": [
    "post_df_full.info()"
   ]
  }
 ],
 "metadata": {
  "kernelspec": {
   "display_name": "Python 3",
   "language": "python",
   "name": "python3"
  },
  "language_info": {
   "codemirror_mode": {
    "name": "ipython",
    "version": 3
   },
   "file_extension": ".py",
   "mimetype": "text/x-python",
   "name": "python",
   "nbconvert_exporter": "python",
   "pygments_lexer": "ipython3",
   "version": "3.10.12"
  }
 },
 "nbformat": 4,
 "nbformat_minor": 2
}
